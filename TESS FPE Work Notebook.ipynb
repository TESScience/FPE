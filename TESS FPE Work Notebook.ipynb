{
 "cells": [
  {
   "cell_type": "markdown",
   "metadata": {},
   "source": [
    "#  TESS FPE Work Notebook"
   ]
  },
  {
   "cell_type": "markdown",
   "metadata": {},
   "source": [
    "This is a work notebook for the [TESS](http://space.mit.edu/TESS/TESS/TESS_Overview.html) Focal Plane Electronics (FPE).\n",
    "\n",
    "The complete manual for the FPE is available here:\n",
    "\n",
    "[https://github.com/TESScience/FPE/raw/master/FPE/Documentation/FPE.pdf](https://github.com/TESScience/FPE/raw/master/FPE/Documentation/FPE.pdf)\n",
    "\n",
    "This document is meant to help engineers use the accompanying python software developed for the FPE Observatory Simulator."
   ]
  },
  {
   "cell_type": "markdown",
   "metadata": {},
   "source": [
    "## Installation"
   ]
  },
  {
   "cell_type": "markdown",
   "metadata": {},
   "source": [
    "To install the `tessfpe` software, simply execute the following at the shell:"
   ]
  },
  {
   "cell_type": "code",
   "execution_count": 9,
   "metadata": {
    "collapsed": false
   },
   "outputs": [
    {
     "name": "stdout",
     "output_type": "stream",
     "text": [
      "\u001b[33mYou are using pip version 7.1.0, however version 7.1.2 is available.\n",
      "You should consider upgrading via the 'pip install --upgrade pip' command.\u001b[0m\n",
      "Collecting tessfpe\n",
      "Collecting grako>=3.6.3 (from tessfpe)\n",
      "Installing collected packages: grako, tessfpe\n",
      "Successfully installed grako-3.6.3 tessfpe-6.1.12.dev8\n"
     ]
    }
   ],
   "source": [
    "!pip install tessfpe --upgrade"
   ]
  },
  {
   "cell_type": "markdown",
   "metadata": {},
   "source": [
    "This will install the latest version of the `tessfpe` module from [pypi](https://pypi.python.org/pypi) if it is not already installed.  You may need root access to do this; if not then you can use a *virtual environment* by creating one and activating it like so:"
   ]
  },
  {
   "cell_type": "code",
   "execution_count": 10,
   "metadata": {
    "collapsed": false
   },
   "outputs": [
    {
     "name": "stdout",
     "output_type": "stream",
     "text": [
      "New python executable in /tmp/venv/bin/python2.7\n",
      "Not overwriting existing python script /tmp/venv/bin/python (you must use /tmp/venv/bin/python2.7)\n",
      "Installing setuptools, pip, wheel...done.\n",
      "Requirement already up-to-date: tessfpe in /private/tmp/venv/lib/python2.7/site-packages\n",
      "Requirement already up-to-date: grako>=3.6.3 in /private/tmp/venv/lib/python2.7/site-packages (from tessfpe)\n"
     ]
    }
   ],
   "source": [
    "!virtualenv /tmp/venv ; source /tmp/venv/bin/activate && pip install tessfpe --upgrade"
   ]
  },
  {
   "cell_type": "markdown",
   "metadata": {},
   "source": [
    "## Housekeeping Parameters"
   ]
  },
  {
   "cell_type": "markdown",
   "metadata": {},
   "source": [
    "To get a listing of what the housekeeping parameters mean, we can look at the `housekeeping_channel_memory_map`.  The followign prints out a listing of each housekpeeing channel and its associated name."
   ]
  },
  {
   "cell_type": "code",
   "execution_count": 11,
   "metadata": {
    "collapsed": true
   },
   "outputs": [],
   "source": [
    "import tessfpe\n",
    "from pprint import pprint"
   ]
  },
  {
   "cell_type": "code",
   "execution_count": 12,
   "metadata": {
    "collapsed": false
   },
   "outputs": [
    {
     "name": "stdout",
     "output_type": "stream",
     "text": [
      "[(0, 'ccd1_output_gate'),\n",
      " (1, 'ccd1_input_gate_1'),\n",
      " (2, 'ccd1_input_gate_2'),\n",
      " (3, 'ccd1_scupper'),\n",
      " (4, 'ccd1_reset_drain'),\n",
      " (5, 'ccd1_backside'),\n",
      " (6, 'ccd1_substrate'),\n",
      " (7, 'ccd1_board_temperature'),\n",
      " (8, 'ccd1_output_drain_a'),\n",
      " (9, 'ccd1_output_drain_b'),\n",
      " (10, 'ccd1_output_drain_c'),\n",
      " (11, 'ccd1_output_drain_d'),\n",
      " (12, 'ccd1_output_source_a'),\n",
      " (13, 'ccd1_output_source_b'),\n",
      " (14, 'ccd1_output_source_c'),\n",
      " (15, 'ccd1_output_source_d'),\n",
      " (16, 'ccd2_output_gate'),\n",
      " (17, 'ccd2_input_gate_1'),\n",
      " (18, 'ccd2_input_gate_2'),\n",
      " (19, 'ccd2_scupper'),\n",
      " (20, 'ccd2_reset_drain'),\n",
      " (21, 'ccd2_backside'),\n",
      " (22, 'ccd2_substrate'),\n",
      " (23, 'ccd2_board_temperature'),\n",
      " (24, 'ccd2_output_drain_a'),\n",
      " (25, 'ccd2_output_drain_b'),\n",
      " (26, 'ccd2_output_drain_c'),\n",
      " (27, 'ccd2_output_drain_d'),\n",
      " (28, 'ccd2_output_source_a'),\n",
      " (29, 'ccd2_output_source_b'),\n",
      " (30, 'ccd2_output_source_c'),\n",
      " (31, 'ccd2_output_source_d'),\n",
      " (32, 'ccd3_output_gate'),\n",
      " (33, 'ccd3_input_gate_1'),\n",
      " (34, 'ccd3_input_gate_2'),\n",
      " (35, 'ccd3_scupper'),\n",
      " (36, 'ccd3_reset_drain'),\n",
      " (37, 'ccd3_backside'),\n",
      " (38, 'ccd3_substrate'),\n",
      " (39, 'ccd3_board_temperature'),\n",
      " (40, 'ccd3_output_drain_a'),\n",
      " (41, 'ccd3_output_drain_b'),\n",
      " (42, 'ccd3_output_drain_c'),\n",
      " (43, 'ccd3_output_drain_d'),\n",
      " (44, 'ccd3_output_source_a'),\n",
      " (45, 'ccd3_output_source_b'),\n",
      " (46, 'ccd3_output_source_c'),\n",
      " (47, 'ccd3_output_source_d'),\n",
      " (48, 'ccd4_output_gate'),\n",
      " (49, 'ccd4_input_gate_1'),\n",
      " (50, 'ccd4_input_gate_2'),\n",
      " (51, 'ccd4_scupper'),\n",
      " (52, 'ccd4_reset_drain'),\n",
      " (53, 'ccd4_backside'),\n",
      " (54, 'ccd4_substrate'),\n",
      " (55, 'ccd4_board_temperature'),\n",
      " (56, 'ccd4_output_drain_a'),\n",
      " (57, 'ccd4_output_drain_b'),\n",
      " (58, 'ccd4_output_drain_c'),\n",
      " (59, 'ccd4_output_drain_d'),\n",
      " (60, 'ccd4_output_source_a'),\n",
      " (61, 'ccd4_output_source_b'),\n",
      " (62, 'ccd4_output_source_c'),\n",
      " (63, 'ccd4_output_source_d'),\n",
      " (64, 'ccd1_parallel_high'),\n",
      " (65, 'ccd1_parallel_low'),\n",
      " (66, 'ccd1_serial_high'),\n",
      " (67, 'ccd1_serial_low'),\n",
      " (68, 'ccd1_reset_high'),\n",
      " (69, 'ccd1_reset_low'),\n",
      " (70, 'ccd1_input_diode_high'),\n",
      " (71, 'ccd1_input_diode_low'),\n",
      " (72, 'ccd2_parallel_high'),\n",
      " (73, 'ccd2_parallel_low'),\n",
      " (74, 'ccd2_serial_high'),\n",
      " (75, 'ccd2_serial_low'),\n",
      " (76, 'ccd2_reset_high'),\n",
      " (77, 'ccd2_reset_low'),\n",
      " (78, 'ccd2_input_diode_high'),\n",
      " (79, 'ccd2_input_diode_low'),\n",
      " (80, 'ccd3_parallel_high'),\n",
      " (81, 'ccd3_parallel_low'),\n",
      " (82, 'ccd3_serial_high'),\n",
      " (83, 'ccd3_serial_low'),\n",
      " (84, 'ccd3_reset_high'),\n",
      " (85, 'ccd3_reset_low'),\n",
      " (86, 'ccd3_input_diode_high'),\n",
      " (87, 'ccd3_input_diode_low'),\n",
      " (88, 'ccd4_parallel_high'),\n",
      " (89, 'ccd4_parallel_low'),\n",
      " (90, 'ccd4_serial_high'),\n",
      " (91, 'ccd4_serial_low'),\n",
      " (92, 'ccd4_reset_high'),\n",
      " (93, 'ccd4_reset_low'),\n",
      " (94, 'ccd4_input_diode_high'),\n",
      " (95, 'ccd4_input_diode_low'),\n",
      " (96, 'heater_1_current'),\n",
      " (97, 'heater_2_current'),\n",
      " (98, 'heater_3_current'),\n",
      " (99, None),\n",
      " (100, None),\n",
      " (101, None),\n",
      " (102, None),\n",
      " (103, None),\n",
      " (104, None),\n",
      " (105, '+15'),\n",
      " (106, '+5'),\n",
      " (107, '-12'),\n",
      " (108, '+3.3f'),\n",
      " (109, '+2.5f'),\n",
      " (110, '+1.8f'),\n",
      " (111, '+1f'),\n",
      " (112, 'pt1000_sensor_1'),\n",
      " (113, 'pt1000_sensor_2'),\n",
      " (114, 'pt1000_sensor_3'),\n",
      " (115, 'pt1000_sensor_4'),\n",
      " (116, 'pt1000_sensor_5'),\n",
      " (117, 'pt1000_sensor_6'),\n",
      " (118, 'pt1000_sensor_7'),\n",
      " (119, 'pt1000_sensor_8'),\n",
      " (120, 'pt1000_sensor_9'),\n",
      " (121, 'pt1000_sensor_10'),\n",
      " (122, 'pt1000_sensor_11'),\n",
      " (123, 'pt1000_sensor_12'),\n",
      " (124, 'alcu_sensor_ccd1'),\n",
      " (125, 'alcu_sensor_ccd2'),\n",
      " (126, 'alcu_sensor_ccd3'),\n",
      " (127, 'alcu_sensor_ccd4')]\n"
     ]
    }
   ],
   "source": [
    "pprint(list(enumerate(tessfpe.housekeeping_channel_memory_map)))"
   ]
  },
  {
   "cell_type": "code",
   "execution_count": null,
   "metadata": {
    "collapsed": true
   },
   "outputs": [],
   "source": []
  }
 ],
 "metadata": {
  "kernelspec": {
   "display_name": "Python 2",
   "language": "python",
   "name": "python2"
  },
  "language_info": {
   "codemirror_mode": {
    "name": "ipython",
    "version": 2
   },
   "file_extension": ".py",
   "mimetype": "text/x-python",
   "name": "python",
   "nbconvert_exporter": "python",
   "pygments_lexer": "ipython2",
   "version": "2.7.10"
  }
 },
 "nbformat": 4,
 "nbformat_minor": 0
}
